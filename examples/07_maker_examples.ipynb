{
 "cells": [
  {
   "cell_type": "code",
   "execution_count": 1,
   "metadata": {},
   "outputs": [],
   "source": [
    "from ase.visualize import view\n",
    "from zse.makers import make_all_exchanged_zeolites, make_iza_zeolite, make_with_ratio"
   ]
  },
  {
   "cell_type": "markdown",
   "metadata": {},
   "source": [
    "# Settings\n"
   ]
  },
  {
   "cell_type": "code",
   "execution_count": null,
   "metadata": {},
   "outputs": [],
   "source": [
    "code = \"MOR\"\n",
    "cation = \"Na\"\n",
    "heteroatom = \"Al\""
   ]
  },
  {
   "cell_type": "markdown",
   "metadata": {},
   "source": [
    "# Make silica zeolites\n"
   ]
  },
  {
   "cell_type": "code",
   "execution_count": 16,
   "metadata": {},
   "outputs": [],
   "source": [
    "zeolite = make_iza_zeolite(code)"
   ]
  },
  {
   "cell_type": "code",
   "execution_count": 17,
   "metadata": {},
   "outputs": [
    {
     "data": {
      "text/plain": [
       "<Popen: returncode: None args: ['c:\\\\Users\\\\asros\\\\miniconda\\\\envs\\\\zeolites...>"
      ]
     },
     "execution_count": 17,
     "metadata": {},
     "output_type": "execute_result"
    }
   ],
   "source": [
    "view(zeolite)"
   ]
  },
  {
   "cell_type": "markdown",
   "metadata": {},
   "source": [
    "# Make all unique zeolites with one heteroatom\n"
   ]
  },
  {
   "cell_type": "code",
   "execution_count": 18,
   "metadata": {},
   "outputs": [],
   "source": [
    "exchanged_zeolites = make_all_exchanged_zeolites(code, heteroatom, cation)"
   ]
  },
  {
   "cell_type": "code",
   "execution_count": 19,
   "metadata": {},
   "outputs": [
    {
     "data": {
      "text/plain": [
       "<Popen: returncode: None args: ['c:\\\\Users\\\\asros\\\\miniconda\\\\envs\\\\zeolites...>"
      ]
     },
     "execution_count": 19,
     "metadata": {},
     "output_type": "execute_result"
    }
   ],
   "source": [
    "view(exchanged_zeolites)"
   ]
  },
  {
   "cell_type": "markdown",
   "metadata": {},
   "source": [
    "# Make T-exchanged zeolites with a given Si/heteroatom ratio, balanced by cations\n"
   ]
  },
  {
   "cell_type": "code",
   "execution_count": null,
   "metadata": {},
   "outputs": [],
   "source": [
    "Si_heteroatom_ratio = 10.0\n",
    "max_zeolites = 50"
   ]
  },
  {
   "cell_type": "code",
   "execution_count": null,
   "metadata": {},
   "outputs": [
    {
     "name": "stderr",
     "output_type": "stream",
     "text": [
      "Generating zeolites:   0%|          | 0/50 [00:00<?, ?item/s]\n"
     ]
    },
    {
     "ename": "ValueError",
     "evalue": "cannot reshape array of size 0 into shape (0,3)",
     "output_type": "error",
     "traceback": [
      "\u001b[1;31m---------------------------------------------------------------------------\u001b[0m",
      "\u001b[1;31mValueError\u001b[0m                                Traceback (most recent call last)",
      "Cell \u001b[1;32mIn[4], line 1\u001b[0m\n\u001b[1;32m----> 1\u001b[0m exchanged_zeolites_ratio \u001b[38;5;241m=\u001b[39m \u001b[43mmake_with_ratio\u001b[49m\u001b[43m(\u001b[49m\n\u001b[0;32m      2\u001b[0m \u001b[43m    \u001b[49m\u001b[43mcode\u001b[49m\u001b[43m,\u001b[49m\n\u001b[0;32m      3\u001b[0m \u001b[43m    \u001b[49m\u001b[43mSi_heteroatom_ratio\u001b[49m\u001b[43m,\u001b[49m\n\u001b[0;32m      4\u001b[0m \u001b[43m    \u001b[49m\u001b[43mheteroatom\u001b[49m\u001b[38;5;241;43m=\u001b[39;49m\u001b[43mheteroatom\u001b[49m\u001b[43m,\u001b[49m\n\u001b[0;32m      5\u001b[0m \u001b[43m    \u001b[49m\u001b[43mcation\u001b[49m\u001b[38;5;241;43m=\u001b[39;49m\u001b[43mcation\u001b[49m\u001b[43m,\u001b[49m\n\u001b[0;32m      6\u001b[0m \u001b[43m    \u001b[49m\u001b[43mmax_samples\u001b[49m\u001b[38;5;241;43m=\u001b[39;49m\u001b[43mmax_zeolites\u001b[49m\u001b[43m,\u001b[49m\n\u001b[0;32m      7\u001b[0m \u001b[43m)\u001b[49m\n",
      "File \u001b[1;32m~\\github\\zse\\src\\zse\\makers.py:167\u001b[0m, in \u001b[0;36mmake_with_ratio\u001b[1;34m(code, ratio, heteroatom, cation, max_samples, min_cation_distance, min_heteroatom_distance, deduplicate)\u001b[0m\n\u001b[0;32m    164\u001b[0m \u001b[38;5;66;03m# Add heteroatoms until we reach the target ratio\u001b[39;00m\n\u001b[0;32m    165\u001b[0m \u001b[38;5;28;01mfor\u001b[39;00m _ \u001b[38;5;129;01min\u001b[39;00m \u001b[38;5;28mrange\u001b[39m(n_heteroatoms_target):\n\u001b[0;32m    166\u001b[0m     \u001b[38;5;66;03m# Get only the valid T sites to consider for exchange\u001b[39;00m\n\u001b[1;32m--> 167\u001b[0m     T_info_valid \u001b[38;5;241m=\u001b[39m \u001b[43mget_T_info_exchangeable\u001b[49m\u001b[43m(\u001b[49m\n\u001b[0;32m    168\u001b[0m \u001b[43m        \u001b[49m\u001b[43mT_info\u001b[49m\u001b[43m,\u001b[49m\n\u001b[0;32m    169\u001b[0m \u001b[43m        \u001b[49m\u001b[43mzeolite\u001b[49m\u001b[43m,\u001b[49m\n\u001b[0;32m    170\u001b[0m \u001b[43m        \u001b[49m\u001b[43mheteroatom\u001b[49m\u001b[43m,\u001b[49m\n\u001b[0;32m    171\u001b[0m \u001b[43m        \u001b[49m\u001b[43mmin_heteroatom_distance\u001b[49m\u001b[38;5;241;43m=\u001b[39;49m\u001b[43mmin_heteroatom_distance\u001b[49m\u001b[43m,\u001b[49m\n\u001b[0;32m    172\u001b[0m \u001b[43m    \u001b[49m\u001b[43m)\u001b[49m\n\u001b[0;32m    173\u001b[0m     \u001b[38;5;28;01mif\u001b[39;00m \u001b[38;5;129;01mnot\u001b[39;00m T_info_valid:\n\u001b[0;32m    174\u001b[0m         bad_zeolite \u001b[38;5;241m=\u001b[39m \u001b[38;5;28;01mTrue\u001b[39;00m\n",
      "File \u001b[1;32m~\\github\\zse\\src\\zse\\t_utilities.py:95\u001b[0m, in \u001b[0;36mget_T_info_exchangeable\u001b[1;34m(T_info, zeolite, heteroatom, min_heteroatom_distance)\u001b[0m\n\u001b[0;32m     88\u001b[0m \u001b[38;5;28;01mfor\u001b[39;00m T_index \u001b[38;5;129;01min\u001b[39;00m T_indices:\n\u001b[0;32m     89\u001b[0m     heteroatom_indices \u001b[38;5;241m=\u001b[39m [\n\u001b[0;32m     90\u001b[0m         atom\u001b[38;5;241m.\u001b[39mindex\n\u001b[0;32m     91\u001b[0m         \u001b[38;5;28;01mfor\u001b[39;00m atom \u001b[38;5;129;01min\u001b[39;00m zeolite\n\u001b[0;32m     92\u001b[0m         \u001b[38;5;28;01mif\u001b[39;00m atom\u001b[38;5;241m.\u001b[39msymbol \u001b[38;5;241m==\u001b[39m heteroatom \u001b[38;5;129;01mand\u001b[39;00m atom\u001b[38;5;241m.\u001b[39mindex \u001b[38;5;241m!=\u001b[39m T_index\n\u001b[0;32m     93\u001b[0m     ]\n\u001b[0;32m     94\u001b[0m     d_min \u001b[38;5;241m=\u001b[39m np\u001b[38;5;241m.\u001b[39mmin(\n\u001b[1;32m---> 95\u001b[0m         \u001b[43mzeolite\u001b[49m\u001b[38;5;241;43m.\u001b[39;49m\u001b[43mget_distances\u001b[49m\u001b[43m(\u001b[49m\n\u001b[0;32m     96\u001b[0m \u001b[43m            \u001b[49m\u001b[43mT_index\u001b[49m\u001b[43m,\u001b[49m\n\u001b[0;32m     97\u001b[0m \u001b[43m            \u001b[49m\u001b[43mheteroatom_indices\u001b[49m\u001b[43m,\u001b[49m\n\u001b[0;32m     98\u001b[0m \u001b[43m            \u001b[49m\u001b[43mmic\u001b[49m\u001b[38;5;241;43m=\u001b[39;49m\u001b[38;5;28;43;01mTrue\u001b[39;49;00m\u001b[43m,\u001b[49m\n\u001b[0;32m     99\u001b[0m \u001b[43m        \u001b[49m\u001b[43m)\u001b[49m\n\u001b[0;32m    100\u001b[0m     )\n\u001b[0;32m    101\u001b[0m     \u001b[38;5;28;01mif\u001b[39;00m zeolite[T_index]\u001b[38;5;241m.\u001b[39msymbol \u001b[38;5;241m==\u001b[39m heteroatom \u001b[38;5;129;01mor\u001b[39;00m d_min \u001b[38;5;241m<\u001b[39m min_heteroatom_distance:\n\u001b[0;32m    102\u001b[0m         T_info_copy[T_label]\u001b[38;5;241m.\u001b[39mremove(T_index)\n",
      "File \u001b[1;32mc:\\Users\\asros\\miniconda\\envs\\zeolites\\lib\\site-packages\\ase\\atoms.py:1786\u001b[0m, in \u001b[0;36mAtoms.get_distances\u001b[1;34m(self, a, indices, mic, vector)\u001b[0m\n\u001b[0;32m   1783\u001b[0m     cell \u001b[38;5;241m=\u001b[39m \u001b[38;5;28mself\u001b[39m\u001b[38;5;241m.\u001b[39mcell\n\u001b[0;32m   1784\u001b[0m     pbc \u001b[38;5;241m=\u001b[39m \u001b[38;5;28mself\u001b[39m\u001b[38;5;241m.\u001b[39mpbc\n\u001b[1;32m-> 1786\u001b[0m D, D_len \u001b[38;5;241m=\u001b[39m \u001b[43mget_distances\u001b[49m\u001b[43m(\u001b[49m\u001b[43mp1\u001b[49m\u001b[43m,\u001b[49m\u001b[43m \u001b[49m\u001b[43mp2\u001b[49m\u001b[43m,\u001b[49m\u001b[43m \u001b[49m\u001b[43mcell\u001b[49m\u001b[38;5;241;43m=\u001b[39;49m\u001b[43mcell\u001b[49m\u001b[43m,\u001b[49m\u001b[43m \u001b[49m\u001b[43mpbc\u001b[49m\u001b[38;5;241;43m=\u001b[39;49m\u001b[43mpbc\u001b[49m\u001b[43m)\u001b[49m\n\u001b[0;32m   1788\u001b[0m \u001b[38;5;28;01mif\u001b[39;00m vector:\n\u001b[0;32m   1789\u001b[0m     D\u001b[38;5;241m.\u001b[39mshape \u001b[38;5;241m=\u001b[39m (\u001b[38;5;241m-\u001b[39m\u001b[38;5;241m1\u001b[39m, \u001b[38;5;241m3\u001b[39m)\n",
      "File \u001b[1;32mc:\\Users\\asros\\miniconda\\envs\\zeolites\\lib\\site-packages\\ase\\geometry\\geometry.py:396\u001b[0m, in \u001b[0;36mget_distances\u001b[1;34m(p1, p2, cell, pbc)\u001b[0m\n\u001b[0;32m    393\u001b[0m     \u001b[38;5;28;01mreturn\u001b[39;00m Dout, Dout_len\n\u001b[0;32m    395\u001b[0m \u001b[38;5;66;03m# Expand back to matrix indexing\u001b[39;00m\n\u001b[1;32m--> 396\u001b[0m \u001b[43mD\u001b[49m\u001b[38;5;241;43m.\u001b[39;49m\u001b[43mshape\u001b[49m \u001b[38;5;241m=\u001b[39m (\u001b[38;5;241m-\u001b[39m\u001b[38;5;241m1\u001b[39m, \u001b[38;5;28mlen\u001b[39m(p2), \u001b[38;5;241m3\u001b[39m)\n\u001b[0;32m    397\u001b[0m D_len\u001b[38;5;241m.\u001b[39mshape \u001b[38;5;241m=\u001b[39m (\u001b[38;5;241m-\u001b[39m\u001b[38;5;241m1\u001b[39m, \u001b[38;5;28mlen\u001b[39m(p2))\n\u001b[0;32m    399\u001b[0m \u001b[38;5;28;01mreturn\u001b[39;00m D, D_len\n",
      "\u001b[1;31mValueError\u001b[0m: cannot reshape array of size 0 into shape (0,3)"
     ]
    }
   ],
   "source": [
    "exchanged_zeolites_ratio = make_with_ratio(\n",
    "    code,\n",
    "    Si_heteroatom_ratio,\n",
    "    heteroatom=heteroatom,\n",
    "    cation=cation,\n",
    "    max_samples=max_zeolites,\n",
    ")"
   ]
  },
  {
   "cell_type": "code",
   "execution_count": 22,
   "metadata": {},
   "outputs": [
    {
     "data": {
      "text/plain": [
       "<Popen: returncode: None args: ['c:\\\\Users\\\\asros\\\\miniconda\\\\envs\\\\zeolites...>"
      ]
     },
     "execution_count": 22,
     "metadata": {},
     "output_type": "execute_result"
    }
   ],
   "source": [
    "view(exchanged_zeolites_ratio)"
   ]
  }
 ],
 "metadata": {
  "kernelspec": {
   "display_name": "zeolites",
   "language": "python",
   "name": "python3"
  },
  "language_info": {
   "codemirror_mode": {
    "name": "ipython",
    "version": 3
   },
   "file_extension": ".py",
   "mimetype": "text/x-python",
   "name": "python",
   "nbconvert_exporter": "python",
   "pygments_lexer": "ipython3",
   "version": "3.10.13"
  }
 },
 "nbformat": 4,
 "nbformat_minor": 2
}
