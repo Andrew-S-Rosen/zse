{
 "cells": [
  {
   "cell_type": "markdown",
   "metadata": {},
   "source": [
    "# ZSE Examples\n",
    "## Jerry Crum 3/6/2020"
   ]
  },
  {
   "cell_type": "markdown",
   "metadata": {},
   "source": [
    "First immport all the modules we will use. Since zse is built around ase, import some ase modules as well. "
   ]
  },
  {
   "cell_type": "code",
   "execution_count": 1,
   "metadata": {},
   "outputs": [],
   "source": [
    "from ase.io import read,write\n",
    "from ase.visualize import view\n",
    "from zse import substitute, protonate,rings\n",
    "from zse.collections import framework"
   ]
  },
  {
   "cell_type": "markdown",
   "metadata": {},
   "source": [
    "Get a zeolite framework to work with as an Atoms object."
   ]
  },
  {
   "cell_type": "code",
   "execution_count": 2,
   "metadata": {},
   "outputs": [],
   "source": [
    "atoms = read('./CHA.cif')"
   ]
  },
  {
   "cell_type": "markdown",
   "metadata": {},
   "source": [
    "Let's change one of the T-Sites from silicon to aluminum."
   ]
  },
  {
   "cell_type": "code",
   "execution_count": 3,
   "metadata": {},
   "outputs": [],
   "source": [
    "atoms = substitute.tsub(atoms, 101, 'Al')"
   ]
  },
  {
   "cell_type": "markdown",
   "metadata": {},
   "source": [
    "Now that we have aluminum in the framework, let's add a charge compensating proton. That proton can bind to any of the four oxygens neighboring the aluminum, and this command will enumerate all the structures. The structures will be returned as a trajectory, and they will also be saved to the path provided. Each structure will be put into its own folder titled 'D-INDEX', where INDEX is the index of the oxygen that the proton is bound to."
   ]
  },
  {
   "cell_type": "code",
   "execution_count": 4,
   "metadata": {},
   "outputs": [],
   "source": [
    "traj, o = protonate.isolated(atoms,101,path='isolated')"
   ]
  },
  {
   "cell_type": "markdown",
   "metadata": {},
   "source": [
    "I like to view the trajectory file to make sure everything looks ok. "
   ]
  },
  {
   "cell_type": "code",
   "execution_count": 8,
   "metadata": {},
   "outputs": [],
   "source": [
    "view(traj)"
   ]
  },
  {
   "cell_type": "markdown",
   "metadata": {},
   "source": [
    "Now, we can use the ring counting tool to classify the oxygens that were used in the previous step. get_rings requires the atoms object, the index of the oxygen, and the types of rings possible for your framework (found on the IZA)."
   ]
  },
  {
   "cell_type": "code",
   "execution_count": 5,
   "metadata": {},
   "outputs": [
    {
     "name": "stdout",
     "output_type": "stream",
     "text": [
      "[[11 19 50 62]]\n"
     ]
    }
   ],
   "source": [
    "print(o)"
   ]
  },
  {
   "cell_type": "code",
   "execution_count": 6,
   "metadata": {},
   "outputs": [
    {
     "name": "stdout",
     "output_type": "stream",
     "text": [
      "11 [6, 4, 4]\n",
      "19 [8, 8, 4]\n",
      "50 [8, 6, 4]\n",
      "62 [8, 4, 4]\n"
     ]
    }
   ],
   "source": [
    "for i in o[0]:\n",
    "    r = rings.get_rings(atoms,i,[8,6,4])\n",
    "    print(i,r)"
   ]
  },
  {
   "cell_type": "markdown",
   "metadata": {},
   "source": [
    "The following example repeats this process for a set of paired Al in the CHA framework. "
   ]
  },
  {
   "cell_type": "code",
   "execution_count": 8,
   "metadata": {},
   "outputs": [],
   "source": [
    "atoms = read('./CHA.cif')\n",
    "atoms = substitute.tsub(atoms, [101, 98], 'Al')\n",
    "traj, o = protonate.paired(atoms,'Al',path='paired')"
   ]
  },
  {
   "cell_type": "code",
   "execution_count": 9,
   "metadata": {},
   "outputs": [
    {
     "name": "stdout",
     "output_type": "stream",
     "text": [
      "17-11: [[6, 4, 4], [6, 4, 4]]\n",
      "17-19: [[6, 4, 4], [8, 8, 4]]\n",
      "17-50: [[6, 4, 4], [8, 6, 4]]\n",
      "17-62: [[6, 4, 4], [8, 4, 4]]\n",
      "31-11: [[8, 8, 4], [6, 4, 4]]\n",
      "31-19: [[8, 8, 4], [8, 8, 4]]\n",
      "31-50: [[8, 8, 4], [8, 6, 4]]\n",
      "31-62: [[8, 8, 4], [8, 4, 4]]\n",
      "53-11: [[8, 6, 4], [6, 4, 4]]\n",
      "53-19: [[8, 6, 4], [8, 8, 4]]\n",
      "53-50: [[8, 6, 4], [8, 6, 4]]\n",
      "53-62: [[8, 6, 4], [8, 4, 4]]\n",
      "65-11: [[8, 4, 4], [6, 4, 4]]\n",
      "65-19: [[8, 4, 4], [8, 8, 4]]\n",
      "65-50: [[8, 4, 4], [8, 6, 4]]\n",
      "65-62: [[8, 4, 4], [8, 4, 4]]\n"
     ]
    }
   ],
   "source": [
    "pr = [8,6,4]\n",
    "for i in o[0]:\n",
    "    for j in o[1]:\n",
    "        r = [rings.get_rings(atoms,i,pr),rings.get_rings(atoms,j,pr)]\n",
    "        print('{0}-{1}: {2}'.format(i,j,r))"
   ]
  },
  {
   "cell_type": "markdown",
   "metadata": {},
   "source": [
    "# IZA Frameworks"
   ]
  },
  {
   "cell_type": "markdown",
   "metadata": {},
   "source": [
    "All of the CIFs available at http://www.iza-structure.org/databases/ are available through a database in this package. The following cell shows you how to call one of those structures. "
   ]
  },
  {
   "cell_type": "code",
   "execution_count": 4,
   "metadata": {},
   "outputs": [],
   "source": [
    "atoms = framework('CHA')\n",
    "view(atoms)"
   ]
  },
  {
   "cell_type": "markdown",
   "metadata": {},
   "source": [
    "This is everything that is included so far. Please provide any suggetions to tools you would like to see added. If you would like to contribute to this package, email me at jcrum@nd.edu."
   ]
  },
  {
   "cell_type": "code",
   "execution_count": 2,
   "metadata": {},
   "outputs": [],
   "source": []
  },
  {
   "cell_type": "code",
   "execution_count": 3,
   "metadata": {},
   "outputs": [],
   "source": []
  },
  {
   "cell_type": "code",
   "execution_count": null,
   "metadata": {},
   "outputs": [],
   "source": []
  }
 ],
 "metadata": {
  "kernelspec": {
   "display_name": "Python 3",
   "language": "python",
   "name": "python3"
  },
  "language_info": {
   "codemirror_mode": {
    "name": "ipython",
    "version": 3
   },
   "file_extension": ".py",
   "mimetype": "text/x-python",
   "name": "python",
   "nbconvert_exporter": "python",
   "pygments_lexer": "ipython3",
   "version": "3.7.3"
  }
 },
 "nbformat": 4,
 "nbformat_minor": 2
}
