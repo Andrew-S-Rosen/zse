{
 "cells": [
  {
   "cell_type": "markdown",
   "metadata": {},
   "source": [
    "# ZSE Examples\n",
    "## Jerry Crum 3/6/2020"
   ]
  },
  {
   "cell_type": "markdown",
   "metadata": {},
   "source": [
    "First import all the modules we will use. Since zse is built around ase, import some ase modules as well. "
   ]
  },
  {
   "cell_type": "code",
   "execution_count": 1,
   "metadata": {},
   "outputs": [],
   "source": [
    "from ase.io import read,write\n",
    "from ase.visualize import view\n",
    "from zse import substitute, protonate,rings"
   ]
  },
  {
   "cell_type": "markdown",
   "metadata": {},
   "source": [
    "Get a zeolite framework to work with as an Atoms object."
   ]
  },
  {
   "cell_type": "code",
   "execution_count": 2,
   "metadata": {},
   "outputs": [],
   "source": [
    "atoms = read('./CHA.cif')"
   ]
  },
  {
   "cell_type": "markdown",
   "metadata": {},
   "source": [
    "Let's change one of the T-Sites from silicon to aluminum."
   ]
  },
  {
   "cell_type": "code",
   "execution_count": 3,
   "metadata": {},
   "outputs": [],
   "source": [
    "atoms = substitute.tsub(atoms, 101, 'Al')"
   ]
  },
  {
   "cell_type": "markdown",
   "metadata": {},
   "source": [
    "Now that we have aluminum in the framework, let's add a charge compensating proton. That proton can bind to any of the four oxygens neighboring the aluminum, and this command will enumerate all the structures. The structures will be returned as a trajectory, and they will also be saved to the path provided. Each structure will be put into its own folder titled 'D-INDEX', where INDEX is the index of the oxygen that the proton is bound to."
   ]
  },
  {
   "cell_type": "code",
   "execution_count": 4,
   "metadata": {},
   "outputs": [],
   "source": [
    "traj = protonate.isolated(atoms,'Al',path='.')"
   ]
  },
  {
   "cell_type": "markdown",
   "metadata": {},
   "source": [
    "I like to view the trajectory file to make sure everything looks ok. "
   ]
  },
  {
   "cell_type": "code",
   "execution_count": 8,
   "metadata": {},
   "outputs": [],
   "source": [
    "view(traj)"
   ]
  },
  {
   "cell_type": "markdown",
   "metadata": {},
   "source": [
    "Now, we can use the ring counting tool to classify the oxygens that were used in the previous step. get_rings requires the atoms object, the index of the oxygen, and the types of rings possible for your framework (found on the IZA)."
   ]
  },
  {
   "cell_type": "code",
   "execution_count": 5,
   "metadata": {},
   "outputs": [
    {
     "name": "stdout",
     "output_type": "stream",
     "text": [
      "CHA.cif  D-11  D-19  D-50  D-62  zse_examples.ipynb\r\n"
     ]
    }
   ],
   "source": [
    "!ls"
   ]
  },
  {
   "cell_type": "code",
   "execution_count": 6,
   "metadata": {},
   "outputs": [
    {
     "name": "stdout",
     "output_type": "stream",
     "text": [
      "11 [6, 4, 4]\n",
      "19 [8, 8, 4]\n",
      "50 [8, 6, 4]\n",
      "62 [8, 4, 4]\n"
     ]
    }
   ],
   "source": [
    "for o in [11,19,50,62]:\n",
    "    r = rings.get_rings(atoms,o,[8,6,4])\n",
    "    print(o,r)"
   ]
  },
  {
   "cell_type": "markdown",
   "metadata": {},
   "source": [
    "This is everything that is included so far. Future updates will include paired t-site protonation, and a collection of zeolite frameworks. Please provide any suggetions to tools you would like to see added. If you would like to contribute to this package, email me at jcrum@nd.edu."
   ]
  },
  {
   "cell_type": "code",
   "execution_count": null,
   "metadata": {},
   "outputs": [],
   "source": []
  }
 ],
 "metadata": {
  "kernelspec": {
   "display_name": "Python 3",
   "language": "python",
   "name": "python3"
  },
  "language_info": {
   "codemirror_mode": {
    "name": "ipython",
    "version": 3
   },
   "file_extension": ".py",
   "mimetype": "text/x-python",
   "name": "python",
   "nbconvert_exporter": "python",
   "pygments_lexer": "ipython3",
   "version": "3.7.3"
  }
 },
 "nbformat": 4,
 "nbformat_minor": 2
}
