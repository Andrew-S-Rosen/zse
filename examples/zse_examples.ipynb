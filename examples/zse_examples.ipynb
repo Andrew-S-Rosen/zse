{
 "cells": [
  {
   "cell_type": "markdown",
   "metadata": {},
   "source": [
    "# ZSE Examples\n",
    "## Jerry Crum \n",
    "### Updated 8/2/2020"
   ]
  },
  {
   "cell_type": "markdown",
   "metadata": {},
   "source": [
    "First import all the modules we will use. Since zse is built around ase, import some ase modules as well. "
   ]
  },
  {
   "cell_type": "code",
   "execution_count": 1,
   "metadata": {},
   "outputs": [],
   "source": [
    "from ase.io import read,write\n",
    "from ase.visualize import view\n",
    "from zse import substitute, protonate, rings, cation\n",
    "from zse.collections import framework"
   ]
  },
  {
   "cell_type": "markdown",
   "metadata": {},
   "source": [
    "Get a zeolite framework to work with as an Atoms object."
   ]
  },
  {
   "cell_type": "code",
   "execution_count": 2,
   "metadata": {},
   "outputs": [],
   "source": [
    "atoms = framework('CHA')"
   ]
  },
  {
   "cell_type": "markdown",
   "metadata": {},
   "source": [
    "Let's change one of the T-Sites from silicon to aluminum."
   ]
  },
  {
   "cell_type": "code",
   "execution_count": 3,
   "metadata": {},
   "outputs": [],
   "source": [
    "atoms = substitute.tsub(atoms, 101, 'Al')"
   ]
  },
  {
   "cell_type": "markdown",
   "metadata": {},
   "source": [
    "Now that we have aluminum in the framework, let's add a charge compensating proton. That proton can bind to any of the four oxygens neighboring the aluminum, and this command will enumerate all the structures. The structures will be returned as a trajectory, and they will also be saved to the path provided. Each structure will be put into its own folder titled 'D-INDEX', where INDEX is the index of the oxygen that the proton is bound to."
   ]
  },
  {
   "cell_type": "code",
   "execution_count": 4,
   "metadata": {},
   "outputs": [],
   "source": [
    "traj, o = protonate.isolated(atoms,101,path='isolated')"
   ]
  },
  {
   "cell_type": "markdown",
   "metadata": {},
   "source": [
    "I like to view the trajectory file to make sure everything looks ok. "
   ]
  },
  {
   "cell_type": "code",
   "execution_count": 5,
   "metadata": {},
   "outputs": [],
   "source": [
    "view(traj)"
   ]
  },
  {
   "cell_type": "markdown",
   "metadata": {},
   "source": [
    "Now, we can use the ring counting tool to classify the oxygens that were used in the previous step. get_rings requires the atoms object, the index of the oxygen, and the types of rings possible for your framework (this information is included in the ZSE framework database or can be found on the IZA)."
   ]
  },
  {
   "cell_type": "code",
   "execution_count": 6,
   "metadata": {},
   "outputs": [
    {
     "name": "stdout",
     "output_type": "stream",
     "text": [
      "[[11 19 50 62]]\n"
     ]
    }
   ],
   "source": [
    "print(o)"
   ]
  },
  {
   "cell_type": "code",
   "execution_count": 7,
   "metadata": {},
   "outputs": [
    {
     "name": "stdout",
     "output_type": "stream",
     "text": [
      "11 [6, 4, 4]\n",
      "19 [8, 8, 4]\n",
      "50 [8, 6, 4]\n",
      "62 [8, 4, 4]\n"
     ]
    }
   ],
   "source": [
    "possible_rings = rings.get_fwrings('CHA')\n",
    "for i in o[0]:\n",
    "    r,paths = rings.get_orings(atoms,i,possible_rings)\n",
    "    print(i,r)"
   ]
  },
  {
   "cell_type": "markdown",
   "metadata": {},
   "source": [
    "If you were curious, you can actually see the indices of the atoms that make up each of those rings. These paths are twice as long as the size of the ring because we only count T Site atoms when describing the rings. Blame the scientific community, not me. "
   ]
  },
  {
   "cell_type": "code",
   "execution_count": 9,
   "metadata": {},
   "outputs": [
    {
     "name": "stdout",
     "output_type": "stream",
     "text": [
      "Oxygen = 11 [6, 4, 4]\n",
      "[92, 47, 104, 17, 98, 53, 107, 14, 95, 50, 101, 11]\n",
      "[92, 71, 89, 44, 80, 62, 101, 11]\n",
      "[92, 28, 82, 1, 73, 19, 101, 11]\n",
      "Oxygen = 19 [8, 8, 4]\n",
      "[73, 55, 106, 21, 75, 39, 297, 243, 307, 286, 304, 34, 95, 50, 101, 19]\n",
      "[73, 37, 85, 463, 530, 497, 515, 461, 522, 45, 102, 26, 80, 62, 101, 19]\n",
      "[73, 1, 82, 28, 92, 11, 101, 19]\n",
      "Oxygen = 50 [8, 6, 4]\n",
      "[95, 34, 304, 286, 307, 243, 297, 39, 75, 21, 106, 55, 73, 19, 101, 50]\n",
      "[95, 14, 107, 53, 98, 17, 104, 47, 92, 11, 101, 50]\n",
      "[95, 68, 86, 8, 80, 62, 101, 50]\n",
      "Oxygen = 62 [8, 4, 4]\n",
      "[80, 26, 102, 45, 522, 461, 515, 497, 530, 463, 85, 37, 73, 19, 101, 62]\n",
      "[80, 44, 89, 71, 92, 11, 101, 62]\n",
      "[80, 8, 86, 68, 95, 50, 101, 62]\n"
     ]
    }
   ],
   "source": [
    "for i in o[0]:\n",
    "    r,paths = rings.get_orings(atoms,i,possible_rings)\n",
    "    print('Oxygen =',i,r)\n",
    "    for p in paths:\n",
    "        print(p)"
   ]
  },
  {
   "cell_type": "markdown",
   "metadata": {},
   "source": [
    "The following example repeats this process for a set of paired Al in the CHA framework. "
   ]
  },
  {
   "cell_type": "code",
   "execution_count": 12,
   "metadata": {},
   "outputs": [],
   "source": [
    "atoms = framework('CHA')\n",
    "atoms = substitute.tsub(atoms, [101, 98], 'Al')\n",
    "traj, o = protonate.paired(atoms,'Al',path='paired')"
   ]
  },
  {
   "cell_type": "code",
   "execution_count": 16,
   "metadata": {},
   "outputs": [
    {
     "name": "stdout",
     "output_type": "stream",
     "text": [
      "17-11: [[6, 4, 4], [6, 4, 4]]\n",
      "17-19: [[6, 4, 4], [8, 8, 4]]\n",
      "17-50: [[6, 4, 4], [8, 6, 4]]\n",
      "17-62: [[6, 4, 4], [8, 4, 4]]\n",
      "31-11: [[8, 8, 4], [6, 4, 4]]\n",
      "31-19: [[8, 8, 4], [8, 8, 4]]\n",
      "31-50: [[8, 8, 4], [8, 6, 4]]\n",
      "31-62: [[8, 8, 4], [8, 4, 4]]\n",
      "53-11: [[8, 6, 4], [6, 4, 4]]\n",
      "53-19: [[8, 6, 4], [8, 8, 4]]\n",
      "53-50: [[8, 6, 4], [8, 6, 4]]\n",
      "53-62: [[8, 6, 4], [8, 4, 4]]\n",
      "65-11: [[8, 4, 4], [6, 4, 4]]\n",
      "65-19: [[8, 4, 4], [8, 8, 4]]\n",
      "65-50: [[8, 4, 4], [8, 6, 4]]\n",
      "65-62: [[8, 4, 4], [8, 4, 4]]\n"
     ]
    }
   ],
   "source": [
    "for i in o[0]:\n",
    "    for j in o[1]:\n",
    "        r = [rings.get_orings(atoms,i,possible_rings)[0],rings.get_orings(atoms,j,possible_rings)[0]]\n",
    "        print('{0}-{1}: {2}'.format(i,j,r))"
   ]
  },
  {
   "cell_type": "markdown",
   "metadata": {},
   "source": [
    "What if you want to find the rings associated with a particular T Site? I've got you covered."
   ]
  },
  {
   "cell_type": "code",
   "execution_count": 9,
   "metadata": {},
   "outputs": [],
   "source": [
    "atoms = framework('CHA')\n",
    "c,paths,ringatoms = rings.get_trings(atoms,77,possible_rings)"
   ]
  },
  {
   "cell_type": "code",
   "execution_count": 11,
   "metadata": {},
   "outputs": [
    {
     "name": "stdout",
     "output_type": "stream",
     "text": [
      "Size of rings associated with T1 are:  [8, 8, 6, 4, 4, 4]\n",
      "The atom indices that make those rings are: \n",
      "[23, 105, 1995, 2688, 2624, 2678, 2660, 2687, 2626, 2032, 1987, 2023, 25, 104, 59, 77]\n",
      "[23, 105, 162, 2124, 2070, 2152, 2101, 2146, 2085, 2139, 177, 90, 29, 83, 41, 77]\n",
      "[5, 89, 44, 80, 8, 86, 38, 74, 2, 83, 41, 77]\n",
      "[41, 83, 65, 98, 17, 104, 59, 77]\n",
      "[5, 89, 71, 92, 47, 104, 59, 77]\n",
      "[5, 89, 35, 93, 12, 105, 23, 77]\n"
     ]
    }
   ],
   "source": [
    "print('Size of rings associated with T1 are: ',c)\n",
    "print('The atom indices that make those rings are: ')\n",
    "for p in paths:\n",
    "    print(p)\n",
    "view(ringatoms)"
   ]
  },
  {
   "cell_type": "markdown",
   "metadata": {},
   "source": [
    "Add copper atoms to a framework with two Al atoms in it. You can change 'Cu' to any divalent cation."
   ]
  },
  {
   "cell_type": "code",
   "execution_count": 19,
   "metadata": {},
   "outputs": [],
   "source": [
    "atoms = framework('CHA')\n",
    "atoms = substitute.tsub(atoms,[101,98],'Al')\n",
    "traj = cation.divalent(atoms, 'Cu', path='copper')"
   ]
  },
  {
   "cell_type": "code",
   "execution_count": 20,
   "metadata": {},
   "outputs": [],
   "source": [
    "view(traj)"
   ]
  },
  {
   "cell_type": "markdown",
   "metadata": {},
   "source": [
    "This also works for monovalent cations. This is currently only set up to consider an isolated Al."
   ]
  },
  {
   "cell_type": "code",
   "execution_count": 21,
   "metadata": {},
   "outputs": [],
   "source": [
    "atoms = framework('CHA')\n",
    "atoms = substitute.tsub(atoms,101,'Al')\n",
    "traj = cation.monovalent(atoms,'Na',path='sodium')"
   ]
  },
  {
   "cell_type": "code",
   "execution_count": 22,
   "metadata": {},
   "outputs": [],
   "source": [
    "view(traj)"
   ]
  },
  {
   "cell_type": "markdown",
   "metadata": {},
   "source": [
    "There is some helpful data stored in the ZSE framework database such as possible rings, tsites, and tsite multiplicity. I'll use the MFI framework as the example since CHA only has one unique T Site."
   ]
  },
  {
   "cell_type": "code",
   "execution_count": 13,
   "metadata": {},
   "outputs": [
    {
     "name": "stdout",
     "output_type": "stream",
     "text": [
      "[10  6  5  4]\n"
     ]
    }
   ],
   "source": [
    "possible_rings = rings.get_fwrings('MFI')\n",
    "print(possible_rings)"
   ]
  },
  {
   "cell_type": "code",
   "execution_count": 15,
   "metadata": {},
   "outputs": [
    {
     "name": "stdout",
     "output_type": "stream",
     "text": [
      "T1 \t 8\n",
      "T2 \t 8\n",
      "T3 \t 8\n",
      "T4 \t 8\n",
      "T5 \t 8\n",
      "T6 \t 8\n",
      "T7 \t 8\n",
      "T8 \t 8\n",
      "T9 \t 8\n",
      "T10 \t 8\n",
      "T11 \t 8\n",
      "T12 \t 8\n"
     ]
    }
   ],
   "source": [
    "tsites,tmult = rings.get_tsites('MFI')\n",
    "for t,m in zip(tsites,tmult):\n",
    "    print('{0} \\t {1}'.format(t,m))"
   ]
  },
  {
   "cell_type": "markdown",
   "metadata": {},
   "source": [
    "# IZA Frameworks"
   ]
  },
  {
   "cell_type": "markdown",
   "metadata": {},
   "source": [
    "All of the CIFs available at http://www.iza-structure.org/databases/ are available through a database in this package. The following cell shows you how to call one of those structures. "
   ]
  },
  {
   "cell_type": "code",
   "execution_count": 16,
   "metadata": {},
   "outputs": [],
   "source": [
    "atoms = framework('MFI')\n",
    "view(atoms)"
   ]
  },
  {
   "cell_type": "markdown",
   "metadata": {},
   "source": [
    "This is everything that is included so far. Please provide any suggetions to tools you would like to see added. If you would like to contribute to this package, email me at jcrum@nd.edu."
   ]
  }
 ],
 "metadata": {
  "kernelspec": {
   "display_name": "Python 3",
   "language": "python",
   "name": "python3"
  },
  "language_info": {
   "codemirror_mode": {
    "name": "ipython",
    "version": 3
   },
   "file_extension": ".py",
   "mimetype": "text/x-python",
   "name": "python",
   "nbconvert_exporter": "python",
   "pygments_lexer": "ipython3",
   "version": "3.7.3"
  }
 },
 "nbformat": 4,
 "nbformat_minor": 2
}
