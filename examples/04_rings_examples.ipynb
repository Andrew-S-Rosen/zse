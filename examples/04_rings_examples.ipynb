{
 "cells": [
  {
   "cell_type": "markdown",
   "metadata": {},
   "source": [
    "# Examples of Use for rings.py Module"
   ]
  },
  {
   "cell_type": "markdown",
   "metadata": {},
   "source": [
    "This module is the crown jewel of ZSE. I have developed algorithms using graph theory that are able to find rings in zeolite frameworks. There are a number of uses for this information. I use ring finding to in the zse.cation.py module to place cations in each of the rings associated with a T-site. Our group uses the rings associated with an oxygen or a T-site to classify them in a more descriptive way than just saying O1 or T4. Most recently I have been using the rings associated with an oxygen site, tetrahedral site, and entire framework as descriptors for neural networks. I have been able to predict deprotonoation energies, and proton location energies using these methods."
   ]
  },
  {
   "cell_type": "markdown",
   "metadata": {},
   "source": [
    "## rings.get_orings( )\n",
    "This is the basic building block of all the ring finding in ZSE. We can use this function to find all the rings associated with an oxygen site in a zeolite framework. \\\n",
    "**Note** This works best if you remove any adsorbates from your framework first. \n",
    "### Inputs\n",
    "**z** is an atoms object containing your zeolite framework \\\n",
    "**index** is the index of the oxygen atom you want to find the rings for \\\n",
    "**code** is the IZA framework code for the type of zeolite you are working with \\\n",
    "### Outputs\n",
    "**ring_list** is a list of all the ring sizes associated with **index** \\\n",
    "**paths** contains the indices of the atoms that make up each ring \\\n",
    "**ring_atoms** is an atoms object that only contains atoms in the rings"
   ]
  },
  {
   "cell_type": "code",
   "execution_count": 1,
   "metadata": {},
   "outputs": [],
   "source": [
    "from zse.collections import *\n",
    "from zse.rings import *\n",
    "from zse.utilities import *\n",
    "from ase.visualize import view"
   ]
  },
  {
   "cell_type": "code",
   "execution_count": 3,
   "metadata": {},
   "outputs": [],
   "source": [
    "z = framework('CHA')\n",
    "ring_list, paths, ring_atoms = get_orings(z,0,'CHA')"
   ]
  },
  {
   "cell_type": "code",
   "execution_count": 4,
   "metadata": {},
   "outputs": [
    {
     "name": "stdout",
     "output_type": "stream",
     "text": [
      "Ring Size \t Path\n",
      "6 \t\t [0, 81, 255, 291, 219, 303, 690, 510, 438, 516, 468, 72]\n",
      "4 \t\t [0, 81, 63, 420, 159, 645, 486, 72]\n",
      "4 \t\t [0, 81, 27, 91, 10, 100, 18, 72]\n"
     ]
    }
   ],
   "source": [
    "print('Ring Size \\t Path')\n",
    "for r,p in zip(ring_list,paths):\n",
    "    print('{0} \\t\\t {1}'.format(r,p))"
   ]
  },
  {
   "cell_type": "markdown",
   "metadata": {},
   "source": [
    "## Notes\n",
    "A couple things to note here is that when people discuss rings in zeolites, a 6-membered ring (6-MR) contains 6 tetrahedral sites. So a 6-MR actually contains 12 atoms total. \\\n",
    "This particular oxygen (index = 0) is associated with three rings: a 6-MR and two 4-MRs. \\\n",
    "We can also visualize these rings below."
   ]
  },
  {
   "cell_type": "code",
   "execution_count": 6,
   "metadata": {},
   "outputs": [],
   "source": [
    "view(ring_atoms)"
   ]
  },
  {
   "cell_type": "markdown",
   "metadata": {},
   "source": [
    "<img src=\"figures/cha_o_rings.png\" style=\"width: 400px;\"/>"
   ]
  },
  {
   "cell_type": "markdown",
   "metadata": {},
   "source": [
    "## rings.get_trings( )\n",
    "So now that you are all experts at understanding the rings in zeolites we can move on to finding the rings associated with a tetrahedral site. To do this we will simply find all the rings associated with each oxygen bound to that tsite. \n",
    "\n",
    "Inputs and outputs are idential to get_orings( ) above."
   ]
  },
  {
   "cell_type": "code",
   "execution_count": 8,
   "metadata": {},
   "outputs": [],
   "source": [
    "ring_list,paths,ring_atoms = get_trings(z,101,'CHA')"
   ]
  },
  {
   "cell_type": "code",
   "execution_count": 9,
   "metadata": {},
   "outputs": [
    {
     "name": "stdout",
     "output_type": "stream",
     "text": [
      "Ring Size \t Path\n",
      "8 \t\t [19, 101, 62, 80, 26, 102, 45, 522, 461, 515, 497, 530, 463, 85, 37, 73]\n",
      "8 \t\t [19, 101, 50, 95, 34, 304, 286, 307, 243, 297, 39, 75, 21, 106, 55, 73]\n",
      "6 \t\t [11, 101, 50, 95, 14, 107, 53, 98, 17, 104, 47, 92]\n",
      "4 \t\t [50, 101, 62, 80, 8, 86, 68, 95]\n",
      "4 \t\t [11, 101, 62, 80, 44, 89, 71, 92]\n",
      "4 \t\t [11, 101, 19, 73, 1, 82, 28, 92]\n"
     ]
    }
   ],
   "source": [
    "print('Ring Size \\t Path')\n",
    "for r,p in zip(ring_list,paths):\n",
    "    print('{0} \\t\\t {1}'.format(r,p))"
   ]
  },
  {
   "cell_type": "markdown",
   "metadata": {},
   "source": [
    "## Notes\n",
    "Here we can see that this T-site is associated with 6 rings: two 8-MRs, one 6-MR, and three 4-MRs. Since chabazite has only one unique T-site, every T-site in this framework will have the same ring classification. \n",
    "\n",
    "I've included a screenshot of the ring_atoms below. It's difficult to see all the rings in a static image, so I encourage you to do this for yourself and play with interactive viewer. "
   ]
  },
  {
   "cell_type": "code",
   "execution_count": 10,
   "metadata": {},
   "outputs": [],
   "source": [
    "view(ring_atoms)"
   ]
  },
  {
   "cell_type": "markdown",
   "metadata": {},
   "source": [
    "<img src=\"figures/cha_t_rings.png\" style=\"width: 400px;\"/>"
   ]
  },
  {
   "cell_type": "markdown",
   "metadata": {},
   "source": [
    "## rings.get_fwrings( )\n",
    "The only thing left now is to find all the unique rings in a framework. To do this we will find all the rings associated with each type of unique oxygen in the framwork. Add all the rings together and use some tricks to remove duplicates. \n",
    "\n",
    "The inputs and outputs of this function are slightly different from what we had above. \n",
    "\n",
    "### Inputs\n",
    "**code** IZA framework code for the zeolite you are using\n",
    "### Outputs\n",
    "Note: \\\n",
    "All outputs are in dictionary form where the key is the size of ring. This will make more sense in the example.\n",
    "\n",
    "**index_paths** Contains all the indices for the atoms in each ring \\\n",
    "**label_paths** Contains all the site labels for the atoms in each ring \\\n",
    "**trajectories** Contains an atoms object of each ring type for visualization \\ \n"
   ]
  },
  {
   "cell_type": "code",
   "execution_count": 19,
   "metadata": {},
   "outputs": [],
   "source": [
    "# I'm going to use a different framework from CHA here\n",
    "# Since CHA only has one unique T-site, it doesn't have many unique rings\n",
    "\n",
    "index_paths, label_paths, trajectories = get_fwrings('AEI')"
   ]
  },
  {
   "cell_type": "code",
   "execution_count": 21,
   "metadata": {},
   "outputs": [
    {
     "name": "stdout",
     "output_type": "stream",
     "text": [
      "Unique 8-MRs: 2\n",
      "['O2', 'T1', 'O4', 'T3', 'O7', 'T2', 'O3', 'T1', 'O2', 'T1', 'O3', 'T2', 'O7', 'T3', 'O4', 'T1']\n",
      "['O6', 'T2', 'O7', 'T3', 'O8', 'T3', 'O7', 'T2', 'O6', 'T2', 'O7', 'T3', 'O8', 'T3', 'O7', 'T2']\n",
      "Unique 6-MRs: 1\n",
      "['O1', 'T1', 'O4', 'T3', 'O5', 'T2', 'O6', 'T2', 'O5', 'T3', 'O4', 'T1']\n",
      "Unique 4-MRs: 4\n",
      "['O1', 'T1', 'O3', 'T2', 'O6', 'T2', 'O3', 'T1']\n",
      "['O1', 'T1', 'O2', 'T1', 'O1', 'T1', 'O2', 'T1']\n",
      "['O3', 'T2', 'O5', 'T3', 'O8', 'T3', 'O4', 'T1']\n",
      "['O5', 'T2', 'O7', 'T3', 'O5', 'T2', 'O7', 'T3']\n"
     ]
    }
   ],
   "source": [
    "ring_sizes = get_ring_sizes('AEI')\n",
    "for r in ring_sizes:\n",
    "    print('Unique {0}-MRs: {1}'.format(r,len(label_paths[r])))\n",
    "    for p in label_paths[r]:\n",
    "        print(p)"
   ]
  },
  {
   "cell_type": "markdown",
   "metadata": {},
   "source": [
    "## Notes\n",
    "So here we can see that the AEI framework has two unique 8-MRs, one unique 6-MR, and four unique 4-MRs. You can look at the ordering of the T-sites and O-sites in the rings to verrify that they are in fact unique."
   ]
  },
  {
   "cell_type": "markdown",
   "metadata": {},
   "source": [
    "## Using the Trajectories\n",
    "To use the trajectories, you must first call the size rings you are interested in: i.e. trajectories[8] will contain both the unique 10-MRs. "
   ]
  },
  {
   "cell_type": "code",
   "execution_count": 22,
   "metadata": {},
   "outputs": [],
   "source": [
    "view(trajectories[8])"
   ]
  },
  {
   "cell_type": "markdown",
   "metadata": {},
   "source": [
    "<img src=\"figures/aei_8-2.png\" width=\"300\" /> <img src=\"figures/aei_8-1.png\" width=\"300\" />\n"
   ]
  },
  {
   "cell_type": "markdown",
   "metadata": {},
   "source": [
    "## rings.get_vertex_symbols( )\n",
    "\n",
    "This is a method to find the shortest paths between each of the 6 possible oxygen-oxygen pairs around a T-site. The vertex symbol for each framework in the IZA is already known, but this toll will save the atoms objects for each oxygen-oxygen pair so the rings can be visualized. \n",
    "\n",
    "### Inputs\n",
    "**code** IZA framework code for the zeolite you are using \\\n",
    "**index** Index of the T-site you would like to characterize\n",
    "### Outputs\n",
    "**vertex_symbols** Dictionary: keys are the oxy-oxy vertex symbol, values the indices of the atoms that make up the path \\\n",
    "**traj** Collection of atoms objects. There should be 6, one for each oxy-oxy pair, showing the rings connecting those two oxygen. \\ \n",
    "\n"
   ]
  },
  {
   "cell_type": "code",
   "execution_count": 2,
   "metadata": {},
   "outputs": [],
   "source": [
    "# pick a framework\n",
    "code = 'DFT'\n",
    "\n",
    "# get the indices of the T-sites for a standard IZA unit cell\n",
    "ts,tm,inds = get_tsites(code)\n",
    "index = inds[0]\n",
    "\n",
    "# run the function\n",
    "vertex_symbols, traj = get_vertex_symbols(code,index)"
   ]
  },
  {
   "cell_type": "code",
   "execution_count": 4,
   "metadata": {},
   "outputs": [
    {
     "name": "stdout",
     "output_type": "stream",
     "text": [
      "1:O1-O1\n",
      "4 [0, 21, 4, 18, 2, 23, 6, 16]\n",
      "2:O1-O2\n",
      "6 [0, 21, 4, 18, 10, 68, 51, 67, 55, 70, 8, 16]\n",
      "6 [0, 21, 4, 18, 10, 68, 53, 65, 49, 70, 8, 16]\n",
      "3:O1-O3\n",
      "8 [0, 21, 11, 19, 7, 22, 302, 308, 291, 307, 299, 309, 292, 306, 300, 16]\n",
      "8 [0, 21, 11, 19, 7, 22, 302, 308, 293, 305, 297, 311, 290, 306, 300, 16]\n",
      "8 [0, 21, 15, 239, 222, 232, 516, 522, 506, 527, 303, 309, 292, 306, 300, 16]\n",
      "4:O1-O2\n",
      "6 [6, 23, 2, 18, 10, 68, 51, 67, 55, 70, 8, 16]\n",
      "6 [6, 23, 2, 18, 10, 68, 53, 65, 49, 70, 8, 16]\n",
      "5:O1-O3\n",
      "8 [6, 23, 9, 17, 1, 22, 302, 308, 291, 307, 299, 309, 292, 306, 300, 16]\n",
      "8 [6, 23, 9, 17, 1, 22, 302, 308, 293, 305, 297, 311, 290, 306, 300, 16]\n",
      "8 [6, 23, 87, 93, 72, 88, 372, 378, 364, 381, 375, 311, 290, 306, 300, 16]\n",
      "6:O2-O3\n",
      "4 [8, 70, 350, 356, 298, 306, 300, 16]\n"
     ]
    }
   ],
   "source": [
    "# Let's check out the results:\n",
    "for v in vertex_symbols:\n",
    "    print(v)\n",
    "    for path in vertex_symbols[v]:\n",
    "        print(int(len(path)/2),path)"
   ]
  },
  {
   "cell_type": "markdown",
   "metadata": {},
   "source": [
    "### Analyze Results\n",
    "So the single T-site in DFT has a vertex symbol of: $4\\cdot6_2\\cdot8_3\\cdot6_2\\cdot8_3\\cdot4$ \\\n",
    "This is in agreement with what is shown on the [IZA Structure Database](https://america.iza-structure.org/IZA-SC/framework_cs.php?STC=DFT)"
   ]
  },
  {
   "cell_type": "code",
   "execution_count": null,
   "metadata": {},
   "outputs": [],
   "source": []
  }
 ],
 "metadata": {
  "kernelspec": {
   "display_name": "Python 3",
   "language": "python",
   "name": "python3"
  },
  "language_info": {
   "codemirror_mode": {
    "name": "ipython",
    "version": 3
   },
   "file_extension": ".py",
   "mimetype": "text/x-python",
   "name": "python",
   "nbconvert_exporter": "python",
   "pygments_lexer": "ipython3",
   "version": "3.7.6"
  }
 },
 "nbformat": 4,
 "nbformat_minor": 4
}
